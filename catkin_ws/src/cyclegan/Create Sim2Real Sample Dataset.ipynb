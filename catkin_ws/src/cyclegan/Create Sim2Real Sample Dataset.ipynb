{
 "cells": [
  {
   "cell_type": "code",
   "execution_count": 3,
   "metadata": {},
   "outputs": [],
   "source": [
    "import csv\n",
    "import os\n",
    "import cv2\n",
    "import numpy as np\n",
    "import random\n",
    "from shutil import copyfile\n",
    "import pandas as pd"
   ]
  },
  {
   "cell_type": "code",
   "execution_count": 4,
   "metadata": {},
   "outputs": [],
   "source": [
    "dataset_root = \"/media/arg_ws3/5E703E3A703E18EB/data/sim2real_sample\"\n",
    "sim2real_root = \"/media/arg_ws3/5E703E3A703E18EB/data/sim2real/\"\n",
    "\n",
    "dataset_real_tote_root = os.path.join(dataset_root, \"real_tote\")\n",
    "dataset_unity_tote_root = os.path.join(dataset_root, \"unity_tote\")\n",
    "dataset_image_root = os.path.join(dataset_root, \"image\")\n",
    "dataset_mask_root = os.path.join(dataset_root, \"mask\")\n",
    "\n",
    "if not os.path.exists(dataset_root):\n",
    "    os.makedirs(dataset_root)\n",
    "if not os.path.exists(dataset_real_tote_root):\n",
    "    os.makedirs(dataset_real_tote_root)\n",
    "if not os.path.exists(dataset_unity_tote_root):\n",
    "    os.makedirs(dataset_unity_tote_root)\n",
    "if not os.path.exists(dataset_image_root):\n",
    "    os.makedirs(dataset_image_root)\n",
    "if not os.path.exists(dataset_mask_root):\n",
    "    os.makedirs(dataset_mask_root)"
   ]
  },
  {
   "cell_type": "code",
   "execution_count": 5,
   "metadata": {},
   "outputs": [],
   "source": [
    "menu = pd.read_csv(os.path.join(sim2real_root, \"menu.csv\"))"
   ]
  },
  {
   "cell_type": "code",
   "execution_count": 18,
   "metadata": {},
   "outputs": [],
   "source": [
    "data_list = []\n",
    "for i in range(100):\n",
    "    img_path = menu.iloc[i, 0]\n",
    "    mask_path = menu.iloc[i, 1]\n",
    "    tote_path = menu.iloc[i, 2]\n",
    "    data_list.append([img_path, mask_path, tote_path])\n",
    "    copyfile(os.path.join(sim2real_root, img_path), os.path.join(dataset_root, img_path))\n",
    "    copyfile(os.path.join(sim2real_root, mask_path), os.path.join(dataset_root, mask_path))\n",
    "    copyfile(os.path.join(sim2real_root, tote_path), os.path.join(dataset_root, tote_path))"
   ]
  },
  {
   "cell_type": "code",
   "execution_count": 21,
   "metadata": {},
   "outputs": [],
   "source": [
    "with open(os.path.join(dataset_root, 'menu.csv'), 'w', newline='') as csvfile:\n",
    "    writer = csv.writer(csvfile)\n",
    "    for item in data_list:\n",
    "        writer.writerow([item[0], item[1], item[2]])"
   ]
  },
  {
   "cell_type": "code",
   "execution_count": 25,
   "metadata": {},
   "outputs": [],
   "source": [
    "real_tote_list = os.listdir(os.path.join(sim2real_root, \"real_tote\"))\n",
    "random.shuffle(real_tote_list)"
   ]
  },
  {
   "cell_type": "code",
   "execution_count": 27,
   "metadata": {},
   "outputs": [],
   "source": [
    "for i in range(100):\n",
    "    copyfile(os.path.join(sim2real_root, \"real_tote\", real_tote_list[i]), os.path.join(dataset_root, \"real_tote\", real_tote_list[i]))"
   ]
  },
  {
   "cell_type": "code",
   "execution_count": 28,
   "metadata": {},
   "outputs": [],
   "source": [
    "def createCSV(path, name, ratio = 0.9):\n",
    "    data_list = []\n",
    "    training_list = []\n",
    "    test_list = []\n",
    "    count = 0\n",
    "        \n",
    "    for (dirpath, dirnames, filenames) in os.walk(path):\n",
    "        for filename in filenames:\n",
    "            data_list.append(os.path.join(dirpath[len(dataset_root):], filename))\n",
    "    random.shuffle(data_list)\n",
    "    \n",
    "    \n",
    "    for data in data_list:\n",
    "        if count < len(data_list)*ratio:\n",
    "            training_list.append(data)\n",
    "        else:\n",
    "            test_list.append(data)\n",
    "        count = count + 1\n",
    "        \n",
    "    with open(os.path.join(dataset_root, name + '_train.csv'), 'w', newline='') as csvfile:\n",
    "        writer = csv.writer(csvfile)\n",
    "        for item in training_list:\n",
    "            writer.writerow([item])\n",
    "    with open(os.path.join(dataset_root, name + '_test.csv'), 'w', newline='') as csvfile:\n",
    "        writer = csv.writer(csvfile)\n",
    "        for item in test_list:\n",
    "            writer.writerow([item])"
   ]
  },
  {
   "cell_type": "code",
   "execution_count": 29,
   "metadata": {},
   "outputs": [],
   "source": [
    "createCSV(dataset_real_tote_root, \"real_totes\")\n",
    "createCSV(dataset_unity_tote_root, \"unity_totes\")"
   ]
  }
 ],
 "metadata": {
  "kernelspec": {
   "display_name": "Python 3",
   "language": "python",
   "name": "python3"
  },
  "language_info": {
   "codemirror_mode": {
    "name": "ipython",
    "version": 3
   },
   "file_extension": ".py",
   "mimetype": "text/x-python",
   "name": "python",
   "nbconvert_exporter": "python",
   "pygments_lexer": "ipython3",
   "version": "3.5.2"
  }
 },
 "nbformat": 4,
 "nbformat_minor": 2
}
