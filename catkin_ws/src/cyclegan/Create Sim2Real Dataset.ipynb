{
 "cells": [
  {
   "cell_type": "code",
   "execution_count": 1,
   "metadata": {},
   "outputs": [],
   "source": [
    "import csv\n",
    "import os\n",
    "import cv2\n",
    "import numpy as np\n",
    "import random\n",
    "from shutil import copyfile"
   ]
  },
  {
   "cell_type": "code",
   "execution_count": 2,
   "metadata": {},
   "outputs": [],
   "source": [
    "dataset_root = \"/media/arg_ws3/5E703E3A703E18EB/data/sim2real\"\n",
    "mm_root = \"/media/arg_ws3/5E703E3A703E18EB/data/mm_unity_new/\"\n",
    "real_root = os.path.join(mm_root, \"real_totes\")\n",
    "unity_totes_root = os.path.join(mm_root, \"unity_totes\")\n",
    "unity_objects_root = os.path.join(mm_root, \"objects\")\n",
    "\n",
    "dataset_real_tote_root = os.path.join(dataset_root, \"real_tote\")\n",
    "dataset_unity_tote_root = os.path.join(dataset_root, \"unity_tote\")\n",
    "dataset_image_root = os.path.join(dataset_root, \"image\")\n",
    "dataset_mask_root = os.path.join(dataset_root, \"mask\")\n",
    "\n",
    "if not os.path.exists(dataset_root):\n",
    "    os.makedirs(dataset_root)\n",
    "if not os.path.exists(dataset_real_tote_root):\n",
    "    os.makedirs(dataset_real_tote_root)\n",
    "if not os.path.exists(dataset_unity_tote_root):\n",
    "    os.makedirs(dataset_unity_tote_root)\n",
    "if not os.path.exists(dataset_image_root):\n",
    "    os.makedirs(dataset_image_root)\n",
    "if not os.path.exists(dataset_mask_root):\n",
    "    os.makedirs(dataset_mask_root)"
   ]
  },
  {
   "cell_type": "code",
   "execution_count": 3,
   "metadata": {},
   "outputs": [],
   "source": [
    "cls_list = os.listdir(unity_objects_root)"
   ]
  },
  {
   "cell_type": "code",
   "execution_count": 4,
   "metadata": {},
   "outputs": [],
   "source": [
    "def get_box_path(dirpath, filename):\n",
    "    box_folder = ''\n",
    "    if '108' in dirpath.split('/')[-2]:\n",
    "        box_folder = 'box_108'\n",
    "    elif '72' in dirpath.split('/')[-2]:\n",
    "        box_folder = 'box_72'\n",
    "    elif '116' in dirpath.split('/')[-2]:\n",
    "        box_folder = 'box_116'\n",
    "    box_path = os.path.join(unity_totes_root, box_folder, dirpath.split('/')[-1], filename)\n",
    "    return box_path"
   ]
  },
  {
   "cell_type": "code",
   "execution_count": 5,
   "metadata": {},
   "outputs": [],
   "source": [
    "data_list = []\n",
    "for (dirpath, dirnames, filenames) in os.walk(unity_objects_root):\n",
    "    for filename in filenames:\n",
    "        if filename.endswith('.jpg') or filename.endswith('_original.png'): \n",
    "            img_path = os.path.join(dirpath[len(unity_objects_root):], filename)\n",
    "            mask_path = img_path.replace('_original.png', '_seg.png')\n",
    "            cls = img_path.split('/')[1]\n",
    "            cls_idx = cls_list.index(cls) + 1\n",
    "            img = cv2.imread(unity_objects_root + img_path)\n",
    "            mask_img = cv2.imread(unity_objects_root + mask_path)[:,:,2]\n",
    "            mask_img[mask_img > 0] = cls_idx\n",
    "            img_name = img_path.replace('/', '_')[1:]\n",
    "            mask_path = mask_path.replace('/', '_')[1:]\n",
    "            box_path = get_box_path(dirpath, filename)\n",
    "            box_name = box_path[len(unity_totes_root):].replace('/', '_')[1:]\n",
    "            if not os.path.isfile(dataset_unity_tote_root + \"/\" + box_name):\n",
    "                copyfile(box_path, dataset_unity_tote_root + \"/\" + box_name)\n",
    "            copyfile(unity_objects_root + img_path, dataset_image_root + \"/\" + img_name)\n",
    "            cv2.imwrite(dataset_mask_root + \"/\" + mask_path, mask_img)\n",
    "            l = [\"image/\" + img_name, \"mask/\" + mask_path, \"unity_tote/\" + box_name]\n",
    "            data_list.append(l)\n",
    "            #print(dataset_image_root + \"/\" + img_name)\n",
    "            #print(dataset_mask_root + \"/\" + mask_path)\n",
    "            #print(mask_img[mask_img!=0])\n",
    "            #break"
   ]
  },
  {
   "cell_type": "code",
   "execution_count": 6,
   "metadata": {},
   "outputs": [],
   "source": [
    "random.shuffle(data_list)\n",
    "\n",
    "with open(os.path.join(dataset_root, 'menu.csv'), 'w', newline='') as csvfile:\n",
    "    writer = csv.writer(csvfile)\n",
    "    for item in data_list:\n",
    "        writer.writerow([item[0], item[1], item[2]])"
   ]
  },
  {
   "cell_type": "markdown",
   "metadata": {},
   "source": [
    "# Create Tote Sim2Real CSV"
   ]
  },
  {
   "cell_type": "code",
   "execution_count": 14,
   "metadata": {},
   "outputs": [],
   "source": [
    "def createCSV(path, name, ratio = 0.9):\n",
    "    data_list = []\n",
    "    training_list = []\n",
    "    test_list = []\n",
    "    count = 0\n",
    "        \n",
    "    for (dirpath, dirnames, filenames) in os.walk(path):\n",
    "        for filename in filenames:\n",
    "            data_list.append(os.path.join(dirpath[len(dataset_root):], filename))\n",
    "    random.shuffle(data_list)\n",
    "    \n",
    "    \n",
    "    for data in data_list:\n",
    "        if count < len(data_list)*ratio:\n",
    "            training_list.append(data)\n",
    "        else:\n",
    "            test_list.append(data)\n",
    "        count = count + 1\n",
    "        \n",
    "    with open(os.path.join(dataset_root, name + '_train.csv'), 'w', newline='') as csvfile:\n",
    "        writer = csv.writer(csvfile)\n",
    "        for item in training_list:\n",
    "            writer.writerow([item])\n",
    "    with open(os.path.join(dataset_root, name + '_test.csv'), 'w', newline='') as csvfile:\n",
    "        writer = csv.writer(csvfile)\n",
    "        for item in test_list:\n",
    "            writer.writerow([item])"
   ]
  },
  {
   "cell_type": "code",
   "execution_count": 15,
   "metadata": {},
   "outputs": [],
   "source": [
    "createCSV(dataset_real_tote_root, \"real_totes\")\n",
    "createCSV(dataset_unity_tote_root, \"unity_totes\")"
   ]
  }
 ],
 "metadata": {
  "kernelspec": {
   "display_name": "Python 3",
   "language": "python",
   "name": "python3"
  },
  "language_info": {
   "codemirror_mode": {
    "name": "ipython",
    "version": 3
   },
   "file_extension": ".py",
   "mimetype": "text/x-python",
   "name": "python",
   "nbconvert_exporter": "python",
   "pygments_lexer": "ipython3",
   "version": "3.5.2"
  }
 },
 "nbformat": 4,
 "nbformat_minor": 2
}
